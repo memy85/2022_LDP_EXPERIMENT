{
 "cells": [
  {
   "cell_type": "code",
   "execution_count": 1,
   "metadata": {},
   "outputs": [],
   "source": [
    "import pandas as pd\n",
    "from pathlib import Path\n",
    "\n",
    "PROJ_PATH = Path('/home/wonseok/2022_LDP_EXPERIMENT/')\n",
    "input_path = PROJ_PATH.joinpath('data/processed/table1')"
   ]
  },
  {
   "cell_type": "code",
   "execution_count": 2,
   "metadata": {},
   "outputs": [],
   "source": [
    "table1 = pd.read_csv(input_path.joinpath('table1.csv'))"
   ]
  },
  {
   "cell_type": "code",
   "execution_count": 6,
   "metadata": {},
   "outputs": [],
   "source": [
    "tb1 =table1[['name', 'types','epsilon','sensitivity', 'specificity']]"
   ]
  },
  {
   "cell_type": "code",
   "execution_count": 8,
   "metadata": {},
   "outputs": [
    {
     "data": {
      "text/html": [
       "<div>\n",
       "<style scoped>\n",
       "    .dataframe tbody tr th:only-of-type {\n",
       "        vertical-align: middle;\n",
       "    }\n",
       "\n",
       "    .dataframe tbody tr th {\n",
       "        vertical-align: top;\n",
       "    }\n",
       "\n",
       "    .dataframe thead th {\n",
       "        text-align: right;\n",
       "    }\n",
       "</style>\n",
       "<table border=\"1\" class=\"dataframe\">\n",
       "  <thead>\n",
       "    <tr style=\"text-align: right;\">\n",
       "      <th></th>\n",
       "      <th>name</th>\n",
       "      <th>types</th>\n",
       "      <th>epsilon</th>\n",
       "      <th>sensitivity</th>\n",
       "      <th>specificity</th>\n",
       "    </tr>\n",
       "  </thead>\n",
       "  <tbody>\n",
       "    <tr>\n",
       "      <th>0</th>\n",
       "      <td>RBC</td>\n",
       "      <td>lm</td>\n",
       "      <td>0.1</td>\n",
       "      <td>0.863761</td>\n",
       "      <td>0.992355</td>\n",
       "    </tr>\n",
       "    <tr>\n",
       "      <th>1</th>\n",
       "      <td>RBC</td>\n",
       "      <td>lm</td>\n",
       "      <td>0.2</td>\n",
       "      <td>0.869113</td>\n",
       "      <td>0.981651</td>\n",
       "    </tr>\n",
       "    <tr>\n",
       "      <th>2</th>\n",
       "      <td>RBC</td>\n",
       "      <td>lm</td>\n",
       "      <td>0.4</td>\n",
       "      <td>0.816208</td>\n",
       "      <td>0.968807</td>\n",
       "    </tr>\n",
       "    <tr>\n",
       "      <th>3</th>\n",
       "      <td>RBC</td>\n",
       "      <td>lm</td>\n",
       "      <td>0.8</td>\n",
       "      <td>0.722018</td>\n",
       "      <td>0.950459</td>\n",
       "    </tr>\n",
       "    <tr>\n",
       "      <th>4</th>\n",
       "      <td>RBC</td>\n",
       "      <td>lm</td>\n",
       "      <td>1.6</td>\n",
       "      <td>0.646636</td>\n",
       "      <td>0.901835</td>\n",
       "    </tr>\n",
       "  </tbody>\n",
       "</table>\n",
       "</div>"
      ],
      "text/plain": [
       "  name types  epsilon  sensitivity  specificity\n",
       "0  RBC    lm      0.1     0.863761     0.992355\n",
       "1  RBC    lm      0.2     0.869113     0.981651\n",
       "2  RBC    lm      0.4     0.816208     0.968807\n",
       "3  RBC    lm      0.8     0.722018     0.950459\n",
       "4  RBC    lm      1.6     0.646636     0.901835"
      ]
     },
     "execution_count": 8,
     "metadata": {},
     "output_type": "execute_result"
    }
   ],
   "source": [
    "tb1.head()"
   ]
  },
  {
   "cell_type": "code",
   "execution_count": null,
   "metadata": {},
   "outputs": [],
   "source": []
  }
 ],
 "metadata": {
  "kernelspec": {
   "display_name": "Python 3.8.12 64-bit ('2022_LDP_EXPERIMENT')",
   "language": "python",
   "name": "python3"
  },
  "language_info": {
   "codemirror_mode": {
    "name": "ipython",
    "version": 3
   },
   "file_extension": ".py",
   "mimetype": "text/x-python",
   "name": "python",
   "nbconvert_exporter": "python",
   "pygments_lexer": "ipython3",
   "version": "3.8.12"
  },
  "orig_nbformat": 4,
  "vscode": {
   "interpreter": {
    "hash": "86a1c670984ca933dfe7fc0edc0d84a1fbf41341868946ec2992a713c2a71aa2"
   }
  }
 },
 "nbformat": 4,
 "nbformat_minor": 2
}
