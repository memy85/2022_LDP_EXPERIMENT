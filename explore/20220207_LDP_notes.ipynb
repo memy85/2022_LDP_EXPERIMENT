{
 "cells": [
  {
   "cell_type": "code",
   "execution_count": 2,
   "metadata": {},
   "outputs": [],
   "source": [
    "# import modules\n",
    "import pandas as pd\n",
    "import numpy as np\n",
    "import matplotlib.pyplot as plt\n",
    "import seaborn as sns"
   ]
  },
  {
   "cell_type": "markdown",
   "metadata": {},
   "source": [
    "# Local Differential Privacy(LDP) with Bounded Laplace Mechanism(BLM)\n",
    "\n",
    "## LDP\n",
    " The notion of LDP can be written as follows,\n",
    "  $$\\frac{Pr[A(v) == y ]}{Pr[A(\\hat{v}) == y]}   <= \\epsilon $$\n",
    "An Algorithm $A$ satisfies an $\\epsilon-Local~Differential~Privacy$ where $\\epsilon > 0$ $if~and~only~if$ for any input $v$ and $\\hat{v}$\n",
    "\n",
    "## BLM\n",
    "  BLM is the randomized mechanism that we will use for our privacy preserving mechanism. We will simulate LDP and see if this Mechanism satisfies $\\epsilon$-LDP. Also, I will try to experiment the boundary or some constraints for this mechanism to work.\n",
    "\n",
    "  The Bounded Laplace Mechanism is as follows,\n",
    "  $$f_{W_q}(x) = \\frac{1}{C_q}\\frac{1}{2b}e^{-\\frac{|x-q|}{b}}, ~~x \\in D$$\n",
    "\n",
    "\n",
    "In this notebook we will do the followings\n",
    " 1. Build a metric that measures whether a mechanism satisfies Differential Privacy\n",
    " 2. Define a BLM function and show it satisfies $\\epsilon$-LDP\n",
    "\n"
   ]
  },
  {
   "cell_type": "code",
   "execution_count": 6,
   "metadata": {},
   "outputs": [
    {
     "data": {
      "text/plain": [
       "-29.041246411382062"
      ]
     },
     "execution_count": 6,
     "metadata": {},
     "output_type": "execute_result"
    }
   ],
   "source": [
    "sensitivity=1\n",
    "epsilon = 0.1\n",
    "\n",
    "np.random.laplace(scale=sensitivity/epsilon)"
   ]
  },
  {
   "cell_type": "code",
   "execution_count": 7,
   "metadata": {},
   "outputs": [
    {
     "data": {
      "text/plain": [
       "10.223644903609589"
      ]
     },
     "execution_count": 7,
     "metadata": {},
     "output_type": "execute_result"
    }
   ],
   "source": [
    "# laplace mechanism\n",
    "\n",
    "def laplace_mechanism(value: float, sensitivity: float, epsilon: float):\n",
    "    '''\n",
    "    This function is the basic laplace mechanism\n",
    "    '''\n",
    "    if epsilon <= 0 :\n",
    "        raise ValueError(\"epsilon should be bigger than 0\")\n",
    "    \n",
    "    randomized_noise = np.random.laplace(scale=sensitivity/epsilon)\n",
    "    value_hat = value + randomized_noise\n",
    "    return value_hat\n",
    "\n",
    "# check the results of laplace mechanism\n",
    "laplace_mechanism(10, 0.1, 0.1)    "
   ]
  },
  {
   "cell_type": "code",
   "execution_count": 14,
   "metadata": {},
   "outputs": [
    {
     "data": {
      "text/plain": [
       "<AxesSubplot:>"
      ]
     },
     "execution_count": 14,
     "metadata": {},
     "output_type": "execute_result"
    },
    {
     "data": {
      "image/png": "[encoded data removed]",
      "text/plain": [
       "<Figure size 432x288 with 1 Axes>"
      ]
     },
     "metadata": {
      "needs_background": "light"
     },
     "output_type": "display_data"
    }
   ],
   "source": [
    "samples = pd.Series([laplace_mechanism(10, 1, 0.1) for _ in range(1000)])\n",
    "\n",
    "samples.hist(bins=100)\n",
    "\n",
    "# we can see that the values are created from laplace distribution\n",
    "# some values are even negative, or too big than the original value\n",
    "# we will implement bounded laplace mechism to solve these issues.."
   ]
  },
  {
   "cell_type": "markdown",
   "metadata": {},
   "source": [
    "## Applying BLM\n",
    "\n",
    "Lets say we wanted to take the value 4 and wanted to satisfy local differential privacy using BLM. We want the value to be in the range of 1 to 10. \n",
    "In this situation, how can we make apply BLM? Is it possible to apply this mechanism? Will it not violate privacy loss? \n",
    "\n",
    "There are some regulations that must be met in order to satisfy BLM."
   ]
  },
  {
   "cell_type": "code",
   "execution_count": 50,
   "metadata": {},
   "outputs": [
    {
     "data": {
      "text/plain": [
       "[<matplotlib.lines.Line2D at 0x7f6f6d5a3c40>]"
      ]
     },
     "execution_count": 50,
     "metadata": {},
     "output_type": "execute_result"
    },
    {
     "data": {
      "image/png": "[encoded data removed]",
      "text/plain": [
       "<Figure size 432x288 with 1 Axes>"
      ]
     },
     "metadata": {
      "needs_background": "light"
     },
     "output_type": "display_data"
    }
   ],
   "source": [
    "# here we can see the pdf of lpalace distribution\n",
    "\n",
    "def pdf_laplace(x):\n",
    "    q = 0\n",
    "    b = 5\n",
    "    return (1/(2*b))*np.exp(-abs(x-q)/b)\n",
    "\n",
    "xs = np.linspace(-10,10,100)\n",
    "v_pdf_laplace = np.vectorize(pdf_laplace)\n",
    "plt.plot(xs, v_pdf_laplace(xs))"
   ]
  },
  {
   "cell_type": "code",
   "execution_count": 6,
   "metadata": {},
   "outputs": [
    {
     "ename": "TypeError",
     "evalue": "unsupported operand type(s) for -: 'NoneType' and 'int'",
     "output_type": "error",
     "traceback": [
      "\u001b[0;31m---------------------------------------------------------------------------\u001b[0m",
      "\u001b[0;31mTypeError\u001b[0m                                 Traceback (most recent call last)",
      "\u001b[1;32m/home/wonseok/2022_LDP_EXPERIMENT/explore/20220207_LDP_notes.ipynb Cell 8'\u001b[0m in \u001b[0;36m<module>\u001b[0;34m\u001b[0m\n\u001b[1;32m      <a href='vscode-notebook-cell://ssh-remote%2B112.169.81.70/home/wonseok/2022_LDP_EXPERIMENT/explore/20220207_LDP_notes.ipynb#ch0000007vscode-remote?line=6'>7</a>\u001b[0m \u001b[39mdef\u001b[39;00m \u001b[39mpdf_laplace\u001b[39m(x\u001b[39m=\u001b[39m\u001b[39mNone\u001b[39;00m, mu\u001b[39m=\u001b[39m\u001b[39mNone\u001b[39;00m, b\u001b[39m=\u001b[39m\u001b[39mNone\u001b[39;00m):\n\u001b[1;32m      <a href='vscode-notebook-cell://ssh-remote%2B112.169.81.70/home/wonseok/2022_LDP_EXPERIMENT/explore/20220207_LDP_notes.ipynb#ch0000007vscode-remote?line=7'>8</a>\u001b[0m     \u001b[39mreturn\u001b[39;00m (\u001b[39m1\u001b[39m\u001b[39m/\u001b[39m(\u001b[39m2\u001b[39m\u001b[39m*\u001b[39mb))\u001b[39m*\u001b[39m(np\u001b[39m.\u001b[39mexp(\u001b[39mabs\u001b[39m(x \u001b[39m-\u001b[39m mu) \u001b[39m/\u001b[39m b))\n\u001b[0;32m---> <a href='vscode-notebook-cell://ssh-remote%2B112.169.81.70/home/wonseok/2022_LDP_EXPERIMENT/explore/20220207_LDP_notes.ipynb#ch0000007vscode-remote?line=10'>11</a>\u001b[0m my_function \u001b[39m=\u001b[39m pdf_laplace(mu\u001b[39m=\u001b[39;49m\u001b[39m0\u001b[39;49m,b\u001b[39m=\u001b[39;49m\u001b[39m1\u001b[39;49m)\n",
      "\u001b[1;32m/home/wonseok/2022_LDP_EXPERIMENT/explore/20220207_LDP_notes.ipynb Cell 8'\u001b[0m in \u001b[0;36mpdf_laplace\u001b[0;34m(x, mu, b)\u001b[0m\n\u001b[1;32m      <a href='vscode-notebook-cell://ssh-remote%2B112.169.81.70/home/wonseok/2022_LDP_EXPERIMENT/explore/20220207_LDP_notes.ipynb#ch0000007vscode-remote?line=6'>7</a>\u001b[0m \u001b[39mdef\u001b[39;00m \u001b[39mpdf_laplace\u001b[39m(x\u001b[39m=\u001b[39m\u001b[39mNone\u001b[39;00m, mu\u001b[39m=\u001b[39m\u001b[39mNone\u001b[39;00m, b\u001b[39m=\u001b[39m\u001b[39mNone\u001b[39;00m):\n\u001b[0;32m----> <a href='vscode-notebook-cell://ssh-remote%2B112.169.81.70/home/wonseok/2022_LDP_EXPERIMENT/explore/20220207_LDP_notes.ipynb#ch0000007vscode-remote?line=7'>8</a>\u001b[0m     \u001b[39mreturn\u001b[39;00m (\u001b[39m1\u001b[39m\u001b[39m/\u001b[39m(\u001b[39m2\u001b[39m\u001b[39m*\u001b[39mb))\u001b[39m*\u001b[39m(np\u001b[39m.\u001b[39mexp(\u001b[39mabs\u001b[39m(x \u001b[39m-\u001b[39;49m mu) \u001b[39m/\u001b[39m b))\n",
      "\u001b[0;31mTypeError\u001b[0m: unsupported operand type(s) for -: 'NoneType' and 'int'"
     ]
    }
   ],
   "source": [
    "# test calculating integral in a given [l, u]\n",
    "# we will use the scipy integral module and the formula introduced in the article\n",
    "\n",
    "# scipy\n",
    "import scipy.integrate as integrate\n",
    "\n",
    "def pdf_laplace(x=None, mu=None, b=None):\n",
    "    return (1/(2*b))*(np.exp(abs(x - mu) / b))\n",
    "\n",
    "\n",
    "my_function = pdf_laplace(mu=0,b=1)\n",
    "# integrate.quad()\n",
    "\n"
   ]
  },
  {
   "cell_type": "code",
   "execution_count": 2,
   "metadata": {},
   "outputs": [],
   "source": [
    "def pdf_Wq(value, D: tuple, b, epsilon, delta): \n",
    "    '''\n",
    "    density function of Wq(bounded laplace mechanism)\n",
    "    D : the support for x(value)\n",
    "    b : variance -> requires checkup. \n",
    "    sensitivity : the minimal difference \n",
    "    '''\n",
    "    # assign boundaries\n",
    "    l, u  = D\n",
    "\n",
    "    if value not in range(l,u+1): return 0\n",
    "    \n",
    "    # calculate C with internal function\n",
    "    def calc_C(value , D:tuple ,b):\n",
    "        l, u = D\n",
    "        return 1 - (1/2)*(np.exp(-((value-l)/b)) + np.exp(-(u-value)/b))\n",
    "\n",
    "    \n",
    "    # Theorem 4.4(Fixed Point)\n",
    "    dQ = abs(u - l)\n",
    "    \n",
    "    # calculate Cl, Cl_dQ #Definition3.4\n",
    "    Cl = calc_C(l, D, b)\n",
    "    Cl_dQ = calc_C(l + dQ, D, b)\n",
    "    \n",
    "    dC = Cl_dQ / Cl\n",
    "    print(f'Cl is {Cl} and Cl_dQ is {Cl_dQ}')\n",
    "    print(f'dC is {dC}')\n",
    "\n",
    "    if b < dQ/(epsilon - np.log(dC) - np.log(1 - delta)) :\n",
    "        print('the variance does not suffice the preconditions')\n",
    "        print('editing b ...')\n",
    "        b = dQ/(epsilon - np.log(dC) - np.log(1 - delta))\n",
    "        print(f\"the value of b is {b}\")\n",
    "        # update b\n",
    "\n",
    "    # calculate the optimal Cq\n",
    "    Cq = calc_C(value, D, b)\n",
    "    # return density \n",
    "    theRange = np.linspace(l, u, num = 10**4)\n",
    "\n",
    "    e_term = np.exp(-(abs(theRange - value)/b))\n",
    "    density  = (1/Cq)*(1/(2*b))*(e_term)\n",
    "    return density\n",
    "\n",
    "    # perturbed_value = np.random.choice(theRange, 1, p=density)\n",
    "    # return perturbed_value\n",
    "    "
   ]
  },
  {
   "cell_type": "code",
   "execution_count": 33,
   "metadata": {},
   "outputs": [
    {
     "name": "stdout",
     "output_type": "stream",
     "text": [
      "dQ is 80\n",
      "Cl is 0.5 and Cl_dQ is 0.5\n",
      "dC is 1.0\n",
      "the variance does not suffice the preconditions\n",
      "editing b ...\n",
      "the value of b is 19.486717352807474\n",
      "dQ is 80\n",
      "Cl is 0.5 and Cl_dQ is 0.5\n",
      "dC is 1.0\n",
      "the variance does not suffice the preconditions\n",
      "editing b ...\n",
      "the value of b is 19.486717352807474\n",
      "the sum is 12.491572922861774\n"
     ]
    },
    {
     "data": {
      "image/png": "[encoded data removed]",
      "text/plain": [
       "<Figure size 432x288 with 1 Axes>"
      ]
     },
     "metadata": {
      "needs_background": "light"
     },
     "output_type": "display_data"
    }
   ],
   "source": [
    "theRange = (0,80)\n",
    "l,u = theRange\n",
    "xs = np.linspace(l, u, num = 10**3)\n",
    "plt.plot(xs, pdf_Wq(33, (0,80), 1, 4, 0.1))\n",
    "\n",
    "probs = pdf_Wq(33, (0,80), 1, 4, 0.1)\n",
    "print(f\"the sum is {probs.sum()}\")"
   ]
  },
  {
   "cell_type": "markdown",
   "metadata": {},
   "source": [
    "### Simulation\n",
    "- we want the number to be between 0 and 9.\n",
    "- The true value will be 7"
   ]
  },
  {
   "cell_type": "code",
   "execution_count": 60,
   "metadata": {},
   "outputs": [
    {
     "name": "stdout",
     "output_type": "stream",
     "text": [
      "dQ is 9\n",
      "Cl is 0.4999382950979566 and Cl_dQ is 0.4999382950979566\n",
      "dC is 1.0\n",
      "the variance does not suffice the preconditions\n",
      "editing b ...\n",
      "the value of b is 43.82536716549684\n"
     ]
    },
    {
     "data": {
      "text/plain": [
       "[<matplotlib.lines.Line2D at 0x7f6f6c41b160>]"
      ]
     },
     "execution_count": 60,
     "metadata": {},
     "output_type": "execute_result"
    },
    {
     "data": {
      "image/png": "[encoded data removed]",
      "text/plain": [
       "<Figure size 432x288 with 1 Axes>"
      ]
     },
     "metadata": {
      "needs_background": "light"
     },
     "output_type": "display_data"
    }
   ],
   "source": [
    "# simulation\n",
    "\n",
    "theRange = (0,9)\n",
    "l,u = theRange\n",
    "xs = np.linspace(l, u, num = 10**3)\n",
    "plt.plot(xs, pdf_Wq(7, (0,9), 1, 0.1, 0.1))"
   ]
  },
  {
   "cell_type": "markdown",
   "metadata": {},
   "source": [
    "Now lets modify the code to pick a random value "
   ]
  }
 ],
 "metadata": {
  "interpreter": {
   "hash": "86a1c670984ca933dfe7fc0edc0d84a1fbf41341868946ec2992a713c2a71aa2"
  },
  "kernelspec": {
   "display_name": "Python 3.8.12 64-bit ('2022_LDP_EXPERIMENT')",
   "language": "python",
   "name": "python3"
  },
  "language_info": {
   "codemirror_mode": {
    "name": "ipython",
    "version": 3
   },
   "file_extension": ".py",
   "mimetype": "text/x-python",
   "name": "python",
   "nbconvert_exporter": "python",
   "pygments_lexer": "ipython3",
   "version": "3.8.12"
  },
  "orig_nbformat": 4
 },
 "nbformat": 4,
 "nbformat_minor": 2
}
