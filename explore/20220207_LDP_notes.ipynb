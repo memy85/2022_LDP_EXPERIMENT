{
 "cells": [
  {
   "cell_type": "code",
   "execution_count": 1,
   "metadata": {},
   "outputs": [],
   "source": [
    "# import modules\n",
    "import pandas as pd\n",
    "import numpy as np\n",
    "import matplotlib.pyplot as plt\n",
    "import seaborn as sns"
   ]
  },
  {
   "cell_type": "markdown",
   "metadata": {},
   "source": [
    "# Local Differential Privacy(LDP) with Bounded Laplace Mechanism(BLM)\n",
    "\n",
    "## LDP\n",
    " The notion of LDP can be written as follows,\n",
    "  $$\\frac{Pr[A(v) == y ]}{Pr[A(\\hat{v}) == y]}   <= \\epsilon $$\n",
    "An Algorithm $A$ satisfies an $\\epsilon-Local~Differential~Privacy$ where $\\epsilon > 0$ $if~and~only~if$ for any input $v$ and $\\hat{v}$\n",
    "\n",
    "## BLM\n",
    "  BLM is the randomized mechanism that we will use for our privacy preserving mechanism. We will simulate LDP and see if this Mechanism satisfies $\\epsilon$-LDP. Also, I will try to experiment the boundary or some constraints for this mechanism to work.\n",
    "\n",
    "  The Bounded Laplace Mechanism is as follows,\n",
    "  $$f_{W_q}(x) = \\frac{1}{C_q}\\frac{1}{2b}e^{-\\frac{|x-q|}{b}}, ~~x \\in D$$\n",
    "\n",
    "\n",
    "In this notebook we will do the followings\n",
    " 1. Build a metric that measures whether a mechanism satisfies Differential Privacy\n",
    " 2. Define a BLM function and show it satisfies $\\epsilon$-LDP\n",
    "\n"
   ]
  },
  {
   "cell_type": "code",
   "execution_count": 7,
   "metadata": {},
   "outputs": [
    {
     "data": {
      "text/plain": [
       "13.240400031826798"
      ]
     },
     "execution_count": 7,
     "metadata": {},
     "output_type": "execute_result"
    }
   ],
   "source": [
    "sensitivity=1\n",
    "epsilon = 0.1\n",
    "\n",
    "np.random.laplace(scale=sensitivity/epsilon)"
   ]
  },
  {
   "cell_type": "code",
   "execution_count": 11,
   "metadata": {},
   "outputs": [
    {
     "ename": "TypeError",
     "evalue": "exceptions must derive from BaseException",
     "output_type": "error",
     "traceback": [
      "\u001b[0;31m---------------------------------------------------------------------------\u001b[0m",
      "\u001b[0;31mTypeError\u001b[0m                                 Traceback (most recent call last)",
      "\u001b[1;32m/home/wonseok/2022_LDP_EXPERIMENT/explore/20220207_LDP_notes.ipynb Cell 4'\u001b[0m in \u001b[0;36m<module>\u001b[0;34m\u001b[0m\n\u001b[1;32m     <a href='vscode-notebook-cell://ssh-remote%2B112.169.81.70/home/wonseok/2022_LDP_EXPERIMENT/explore/20220207_LDP_notes.ipynb#ch0000002vscode-remote?line=11'>12</a>\u001b[0m     \u001b[39mreturn\u001b[39;00m value_hat\n\u001b[1;32m     <a href='vscode-notebook-cell://ssh-remote%2B112.169.81.70/home/wonseok/2022_LDP_EXPERIMENT/explore/20220207_LDP_notes.ipynb#ch0000002vscode-remote?line=13'>14</a>\u001b[0m \u001b[39m# check the results of laplace mechanism\u001b[39;00m\n\u001b[0;32m---> <a href='vscode-notebook-cell://ssh-remote%2B112.169.81.70/home/wonseok/2022_LDP_EXPERIMENT/explore/20220207_LDP_notes.ipynb#ch0000002vscode-remote?line=14'>15</a>\u001b[0m laplace_mechanism(\u001b[39m10\u001b[39;49m, \u001b[39m0.1\u001b[39;49m, \u001b[39m0\u001b[39;49m)\n",
      "\u001b[1;32m/home/wonseok/2022_LDP_EXPERIMENT/explore/20220207_LDP_notes.ipynb Cell 4'\u001b[0m in \u001b[0;36mlaplace_mechanism\u001b[0;34m(value, sensitivity, epsilon)\u001b[0m\n\u001b[1;32m      <a href='vscode-notebook-cell://ssh-remote%2B112.169.81.70/home/wonseok/2022_LDP_EXPERIMENT/explore/20220207_LDP_notes.ipynb#ch0000002vscode-remote?line=3'>4</a>\u001b[0m \u001b[39m'''\u001b[39;00m\n\u001b[1;32m      <a href='vscode-notebook-cell://ssh-remote%2B112.169.81.70/home/wonseok/2022_LDP_EXPERIMENT/explore/20220207_LDP_notes.ipynb#ch0000002vscode-remote?line=4'>5</a>\u001b[0m \u001b[39mThis function is the basic laplace mechanism\u001b[39;00m\n\u001b[1;32m      <a href='vscode-notebook-cell://ssh-remote%2B112.169.81.70/home/wonseok/2022_LDP_EXPERIMENT/explore/20220207_LDP_notes.ipynb#ch0000002vscode-remote?line=5'>6</a>\u001b[0m \u001b[39m'''\u001b[39;00m\n\u001b[1;32m      <a href='vscode-notebook-cell://ssh-remote%2B112.169.81.70/home/wonseok/2022_LDP_EXPERIMENT/explore/20220207_LDP_notes.ipynb#ch0000002vscode-remote?line=6'>7</a>\u001b[0m \u001b[39mif\u001b[39;00m epsilon \u001b[39m<\u001b[39m\u001b[39m=\u001b[39m \u001b[39m0\u001b[39m :\n\u001b[0;32m----> <a href='vscode-notebook-cell://ssh-remote%2B112.169.81.70/home/wonseok/2022_LDP_EXPERIMENT/explore/20220207_LDP_notes.ipynb#ch0000002vscode-remote?line=7'>8</a>\u001b[0m     \u001b[39mraise\u001b[39;00m \u001b[39m\"\u001b[39m\u001b[39mepsilon should be bigger than 0\u001b[39m\u001b[39m\"\u001b[39m\n\u001b[1;32m     <a href='vscode-notebook-cell://ssh-remote%2B112.169.81.70/home/wonseok/2022_LDP_EXPERIMENT/explore/20220207_LDP_notes.ipynb#ch0000002vscode-remote?line=9'>10</a>\u001b[0m randomized_noise \u001b[39m=\u001b[39m np\u001b[39m.\u001b[39mrandom\u001b[39m.\u001b[39mlaplace(scale\u001b[39m=\u001b[39msensitivity\u001b[39m/\u001b[39mepsilon)\n\u001b[1;32m     <a href='vscode-notebook-cell://ssh-remote%2B112.169.81.70/home/wonseok/2022_LDP_EXPERIMENT/explore/20220207_LDP_notes.ipynb#ch0000002vscode-remote?line=10'>11</a>\u001b[0m value_hat \u001b[39m=\u001b[39m value \u001b[39m+\u001b[39m randomized_noise\n",
      "\u001b[0;31mTypeError\u001b[0m: exceptions must derive from BaseException"
     ]
    }
   ],
   "source": [
    "# laplace mechanism\n",
    "\n",
    "def laplace_mechanism(value: float, sensitivity: float, epsilon: float):\n",
    "    '''\n",
    "    This function is the basic laplace mechanism\n",
    "    '''\n",
    "    if epsilon <= 0 :\n",
    "        raise \"epsilon should be bigger than 0\"\n",
    "    \n",
    "    randomized_noise = np.random.laplace(scale=sensitivity/epsilon)\n",
    "    value_hat = value + randomized_noise\n",
    "    return value_hat\n",
    "\n",
    "# check the results of laplace mechanism\n",
    "laplace_mechanism(10, 0.1, 0)    "
   ]
  },
  {
   "cell_type": "markdown",
   "metadata": {},
   "source": [
    "## Applying BLM\n",
    "\n",
    "Lets say we wanted to take the value 4 and wanted to satisfy local differential privacy using BLM. We want the value to be in the range of 1 to 10. \n",
    "In this situation, how can we make apply BLM? Is it possible to apply this mechanism? Will it not violate privacy loss? \n",
    "\n",
    "There are some regulations that must be met in order to satisfy BLM."
   ]
  },
  {
   "cell_type": "code",
   "execution_count": null,
   "metadata": {},
   "outputs": [],
   "source": [
    "# BLM\n",
    "\n",
    "def bounded_laplace_mechanism(value: float, b: float, C_q: float, boundary: tuple):\n",
    "    '''\n",
    "    This function outputs a randomized value which satisfies epsilon-DP\n",
    "    '''\n",
    "    C_q = \n",
    "    if b <= 0 :\n",
    "        raise \"b should be a positive number\"\n",
    "    \n",
    "    e_term = np.exp(-(abs(value - q)/b))\n",
    "    W_q = (1/C_q)*(1/2*b)*(e_term)\n",
    "\n",
    "    return W_q\n",
    "\n"
   ]
  }
 ],
 "metadata": {
  "interpreter": {
   "hash": "86a1c670984ca933dfe7fc0edc0d84a1fbf41341868946ec2992a713c2a71aa2"
  },
  "kernelspec": {
   "display_name": "Python 3.8.12 64-bit ('2022_LDP_EXPERIMENT')",
   "language": "python",
   "name": "python3"
  },
  "language_info": {
   "codemirror_mode": {
    "name": "ipython",
    "version": 3
   },
   "file_extension": ".py",
   "mimetype": "text/x-python",
   "name": "python",
   "nbconvert_exporter": "python",
   "pygments_lexer": "ipython3",
   "version": "3.8.12"
  },
  "orig_nbformat": 4
 },
 "nbformat": 4,
 "nbformat_minor": 2
}
