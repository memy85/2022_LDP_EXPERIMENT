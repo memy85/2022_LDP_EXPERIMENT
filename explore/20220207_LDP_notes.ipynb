{
 "cells": [
  {
   "cell_type": "code",
   "execution_count": 3,
   "metadata": {},
   "outputs": [],
   "source": [
    "# import modules\n",
    "import pandas as pd\n",
    "import numpy as np\n",
    "import matplotlib.pyplot as plt\n",
    "import seaborn as sns"
   ]
  },
  {
   "cell_type": "markdown",
   "metadata": {},
   "source": [
    "# Local Differential Privacy(LDP) with Bounded Laplace Mechanism(BLM)\n",
    "\n",
    "## LDP\n",
    " The notion of LDP can be written as follows,\n",
    "  $$\\frac{Pr[A(v) == y ]}{Pr[A(\\hat{v}) == y]}   <= \\epsilon $$\n",
    "An Algorithm $A$ satisfies an $\\epsilon-Local~Differential~Privacy$ where $\\epsilon > 0$ $if~and~only~if$ for any input $v$ and $\\hat{v}$\n",
    "\n",
    "## BLM\n",
    "  BLM is the randomized mechanism that we will use for our privacy preserving mechanism. We will simulate LDP and see if this Mechanism satisfies $\\epsilon$-LDP. Also, I will try to experiment the boundary or some constraints for this mechanism to work.\n",
    "\n",
    "  The Bounded Laplace Mechanism is as follows,\n",
    "  $$f_{W_q}(x) = \\frac{1}{C_q}\\frac{1}{2b}e^{-\\frac{|x-q|}{b}}, ~~x \\in D$$\n",
    "\n",
    "\n",
    "In this notebook we will do the followings\n",
    " 1. Build a metric that measures whether a mechanism satisfies Differential Privacy\n",
    " 2. Define a BLM function and show it satisfies $\\epsilon$-LDP\n",
    "\n"
   ]
  },
  {
   "cell_type": "code",
   "execution_count": 6,
   "metadata": {},
   "outputs": [
    {
     "data": {
      "text/plain": [
       "-29.041246411382062"
      ]
     },
     "execution_count": 6,
     "metadata": {},
     "output_type": "execute_result"
    }
   ],
   "source": [
    "sensitivity=1\n",
    "epsilon = 0.1\n",
    "\n",
    "np.random.laplace(scale=sensitivity/epsilon)"
   ]
  },
  {
   "cell_type": "code",
   "execution_count": 7,
   "metadata": {},
   "outputs": [
    {
     "data": {
      "text/plain": [
       "10.223644903609589"
      ]
     },
     "execution_count": 7,
     "metadata": {},
     "output_type": "execute_result"
    }
   ],
   "source": [
    "# laplace mechanism\n",
    "\n",
    "def laplace_mechanism(value: float, sensitivity: float, epsilon: float):\n",
    "    '''\n",
    "    This function is the basic laplace mechanism\n",
    "    '''\n",
    "    if epsilon <= 0 :\n",
    "        raise ValueError(\"epsilon should be bigger than 0\")\n",
    "    \n",
    "    randomized_noise = np.random.laplace(scale=sensitivity/epsilon)\n",
    "    value_hat = value + randomized_noise\n",
    "    return value_hat\n",
    "\n",
    "# check the results of laplace mechanism\n",
    "laplace_mechanism(10, 0.1, 0.1)    "
   ]
  },
  {
   "cell_type": "code",
   "execution_count": 14,
   "metadata": {},
   "outputs": [
    {
     "data": {
      "text/plain": [
       "<AxesSubplot:>"
      ]
     },
     "execution_count": 14,
     "metadata": {},
     "output_type": "execute_result"
    },
    {
     "data": {
      "image/png": "[encoded data removed]",
      "text/plain": [
       "<Figure size 432x288 with 1 Axes>"
      ]
     },
     "metadata": {
      "needs_background": "light"
     },
     "output_type": "display_data"
    }
   ],
   "source": [
    "samples = pd.Series([laplace_mechanism(10, 1, 0.1) for _ in range(1000)])\n",
    "\n",
    "samples.hist(bins=100)\n",
    "\n",
    "# we can see that the values are created from laplace distribution\n",
    "# some values are even negative, or too big than the original value\n",
    "# we will implement bounded laplace mechism to solve these issues.."
   ]
  },
  {
   "cell_type": "markdown",
   "metadata": {},
   "source": [
    "## Applying BLM\n",
    "\n",
    "Lets say we wanted to take the value 4 and wanted to satisfy local differential privacy using BLM. We want the value to be in the range of 1 to 10. \n",
    "In this situation, how can we make apply BLM? Is it possible to apply this mechanism? Will it not violate privacy loss? \n",
    "\n",
    "There are some regulations that must be met in order to satisfy BLM."
   ]
  },
  {
   "cell_type": "code",
   "execution_count": null,
   "metadata": {},
   "outputs": [],
   "source": [
    "# BLM\n",
    "\n",
    "def bounded_laplace_mechanism(value: float, \n",
    "                              b: float, \n",
    "                              C_q: float, \n",
    "                              boundary: tuple, \n",
    "                              epsilon: float,\n",
    "                              delta: float):\n",
    "    '''\n",
    "    This function outputs a randomized value which satisfies epsilon,delta-DP\n",
    "    '''\n",
    "    # Calculate b\n",
    "\n",
    "\n",
    "    # the C_q value for boundary (l,u)\n",
    "    C_q = 1 - (1/2)*(np.exp(-((q-l)/b)) + np.exp(-(u-q)/b))\n",
    "\n",
    "    # derivitive of C(b)\n",
    "    dC = (C_l + dQ) / C_l\n",
    "    \n",
    "    # check variance before applying BLM \n",
    "    if b < dQ/(epsilon - np.log(dC) - np.log(1 - delta)):\n",
    "        raise Exception(\"the variance condition is not met. Please check the variance\")\n",
    "\n",
    "    if b <= 0 :\n",
    "        raise \"b should be a positive number\"\n",
    "    \n",
    "    e_term = np.exp(-(abs(value - q)/b))\n",
    "    W_q = (1/C_q)*(1/2*b)*(e_term)\n",
    "\n",
    "    return W_q\n",
    "\n"
   ]
  }
 ],
 "metadata": {
  "interpreter": {
   "hash": "86a1c670984ca933dfe7fc0edc0d84a1fbf41341868946ec2992a713c2a71aa2"
  },
  "kernelspec": {
   "display_name": "Python 3.8.12 64-bit ('2022_LDP_EXPERIMENT')",
   "language": "python",
   "name": "python3"
  },
  "language_info": {
   "codemirror_mode": {
    "name": "ipython",
    "version": 3
   },
   "file_extension": ".py",
   "mimetype": "text/x-python",
   "name": "python",
   "nbconvert_exporter": "python",
   "pygments_lexer": "ipython3",
   "version": "3.8.12"
  },
  "orig_nbformat": 4
 },
 "nbformat": 4,
 "nbformat_minor": 2
}
