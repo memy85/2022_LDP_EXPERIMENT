{
 "cells": [
  {
   "cell_type": "code",
   "execution_count": 4,
   "metadata": {},
   "outputs": [],
   "source": [
    "import os, sys\n",
    "sys.path.append('../code/')\n",
    "from LDP_algorithm import BLM"
   ]
  },
  {
   "cell_type": "code",
   "execution_count": 5,
   "metadata": {},
   "outputs": [
    {
     "name": "stdout",
     "output_type": "stream",
     "text": [
      "the variance does not suffice the preconditions\n",
      "editing b ...\n",
      "the value of b is 141.21507197771203\n"
     ]
    },
    {
     "ename": "ValueError",
     "evalue": "probabilities do not sum to 1",
     "output_type": "error",
     "traceback": [
      "\u001b[0;31m---------------------------------------------------------------------------\u001b[0m",
      "\u001b[0;31mValueError\u001b[0m                                Traceback (most recent call last)",
      "\u001b[1;32m/home/wonseok/2022_LDP_EXPERIMENT/explore/20220208_LDP_code_experiment.ipynb Cell 2'\u001b[0m in \u001b[0;36m<module>\u001b[0;34m\u001b[0m\n\u001b[0;32m----> <a href='vscode-notebook-cell://ssh-remote%2B112.169.81.70/home/wonseok/2022_LDP_EXPERIMENT/explore/20220208_LDP_code_experiment.ipynb#ch0000001vscode-remote?line=0'>1</a>\u001b[0m BLM(\u001b[39m10\u001b[39;49m,(\u001b[39m1\u001b[39;49m,\u001b[39m30\u001b[39;49m),\u001b[39m1\u001b[39;49m,\u001b[39m0.1\u001b[39;49m,\u001b[39m0.1\u001b[39;49m)\n",
      "File \u001b[0;32m~/2022_LDP_EXPERIMENT/explore/../code/LDP_algorithm.py:61\u001b[0m, in \u001b[0;36mBLM\u001b[0;34m(value, D, b, epsilon, delta)\u001b[0m\n",
      "File \u001b[0;32mmtrand.pyx:939\u001b[0m, in \u001b[0;36mnumpy.random.mtrand.RandomState.choice\u001b[0;34m()\u001b[0m\n",
      "\u001b[0;31mValueError\u001b[0m: probabilities do not sum to 1"
     ]
    }
   ],
   "source": [
    "BLM(10,(1,30),1,0.1,0.1)"
   ]
  },
  {
   "cell_type": "code",
   "execution_count": null,
   "metadata": {},
   "outputs": [],
   "source": []
  }
 ],
 "metadata": {
  "interpreter": {
   "hash": "77bda2a4e505133c6181bd0c695e5d7097649d3781bff471def542f9804ca079"
  },
  "kernelspec": {
   "display_name": "Python 3.8.12 64-bit ('3.8.12')",
   "language": "python",
   "name": "python3"
  },
  "language_info": {
   "codemirror_mode": {
    "name": "ipython",
    "version": 3
   },
   "file_extension": ".py",
   "mimetype": "text/x-python",
   "name": "python",
   "nbconvert_exporter": "python",
   "pygments_lexer": "ipython3",
   "version": "3.8.12"
  },
  "orig_nbformat": 4
 },
 "nbformat": 4,
 "nbformat_minor": 2
}
