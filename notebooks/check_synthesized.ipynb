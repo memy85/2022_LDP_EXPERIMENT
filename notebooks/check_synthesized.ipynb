{
 "cells": [
  {
   "cell_type": "code",
   "execution_count": 4,
   "metadata": {},
   "outputs": [],
   "source": [
    "import pandas as pd\n",
    "from pathlib import Path\n",
    "\n",
    "lm_data_dir = Path().cwd().parent.joinpath('data/processed/lm_simulation')\n",
    "new_data_dir = Path().cwd().parent.joinpath('data/processed/new_lm_simulation')"
   ]
  },
  {
   "cell_type": "code",
   "execution_count": 6,
   "metadata": {},
   "outputs": [],
   "source": [
    "bp_path = lm_data_dir.joinpath('BP.feather')\n",
    "\n",
    "bp_data = pd.read_feather(bp_path)"
   ]
  },
  {
   "cell_type": "code",
   "execution_count": 10,
   "metadata": {},
   "outputs": [
    {
     "data": {
      "text/plain": [
       "17058137.502211962"
      ]
     },
     "execution_count": 10,
     "metadata": {},
     "output_type": "execute_result"
    }
   ],
   "source": [
    "((bp_data['value'] - bp_data['value_0.1'])**2).mean()"
   ]
  }
 ],
 "metadata": {
  "kernelspec": {
   "display_name": "Python 3.8.12 64-bit ('ldptrial')",
   "language": "python",
   "name": "python3"
  },
  "language_info": {
   "codemirror_mode": {
    "name": "ipython",
    "version": 3
   },
   "file_extension": ".py",
   "mimetype": "text/x-python",
   "name": "python",
   "nbconvert_exporter": "python",
   "pygments_lexer": "ipython3",
   "version": "3.8.12"
  },
  "orig_nbformat": 4,
  "vscode": {
   "interpreter": {
    "hash": "911bc2092cffe975f867d002b20bd845e718a1cce0c818ff8181a4d7168d2704"
   }
  }
 },
 "nbformat": 4,
 "nbformat_minor": 2
}
