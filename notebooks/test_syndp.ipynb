{
 "cells": [
  {
   "cell_type": "code",
   "execution_count": 4,
   "metadata": {},
   "outputs": [],
   "source": [
    "from syndp import original_timedp as odp"
   ]
  },
  {
   "cell_type": "code",
   "execution_count": 8,
   "metadata": {},
   "outputs": [
    {
     "name": "stdout",
     "output_type": "stream",
     "text": [
      "\u001b[0;31mType:\u001b[0m        module\n",
      "\u001b[0;31mString form:\u001b[0m <module 'syndp.original_timedp' from '/home/wonseok/.pyenv/versions/3.8.12/envs/ldptrial/lib/python3.8/site-packages/syndp/original_timedp.py'>\n",
      "\u001b[0;31mFile:\u001b[0m        ~/.pyenv/versions/3.8.12/envs/ldptrial/lib/python3.8/site-packages/syndp/original_timedp.py\n",
      "\u001b[0;31mDocstring:\u001b[0m   <no docstring>\n"
     ]
    }
   ],
   "source": []
  }
 ],
 "metadata": {
  "kernelspec": {
   "display_name": "Python 3.8.12 64-bit ('ldptrial')",
   "language": "python",
   "name": "python3"
  },
  "language_info": {
   "codemirror_mode": {
    "name": "ipython",
    "version": 3
   },
   "file_extension": ".py",
   "mimetype": "text/x-python",
   "name": "python",
   "nbconvert_exporter": "python",
   "pygments_lexer": "ipython3",
   "version": "3.8.12"
  },
  "orig_nbformat": 4,
  "vscode": {
   "interpreter": {
    "hash": "911bc2092cffe975f867d002b20bd845e718a1cce0c818ff8181a4d7168d2704"
   }
  }
 },
 "nbformat": 4,
 "nbformat_minor": 2
}
