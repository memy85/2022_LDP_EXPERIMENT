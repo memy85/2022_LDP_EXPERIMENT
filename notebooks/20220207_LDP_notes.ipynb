{
 "cells": [
  {
   "cell_type": "code",
   "execution_count": 2,
   "metadata": {},
   "outputs": [],
   "source": [
    "import pandas as pd\n",
    "import numpy as np\n",
    "import matplotlib.pyplot as plt\n",
    "import seaborn as sns\n",
    "from pathlib import Path"
   ]
  },
  {
   "cell_type": "markdown",
   "metadata": {},
   "source": [
    "# Local Differential Privacy(LDP) with Bounded Laplace Mechanism(BLM)\n",
    "\n",
    "## LDP\n",
    " The notion of LDP can be written as follows,\n",
    "  $$\\frac{Pr[A(v) == y ]}{Pr[A(\\hat{v}) == y]}   <= \\epsilon $$\n",
    "An Algorithm $A$ satisfies an $\\epsilon-Local~Differential~Privacy$ where $\\epsilon > 0$ $if~and~only~if$ for any input $v$ and $\\hat{v}$\n",
    "\n",
    "## BLM\n",
    "  BLM is the randomized mechanism that we will use for our privacy preserving mechanism. We will simulate LDP and see if this Mechanism satisfies $\\epsilon$-LDP. Also, I will try to experiment the boundary or some constraints for this mechanism to work.\n",
    "\n",
    "In this notebook we will do the followings\n",
    " 1. Build a metric that measures whether a mechanism satisfies Differential Privacy\n",
    " 2. Define a BLM function and show it satisfies $\\epsilon$-LDP\n",
    "\n"
   ]
  },
  {
   "cell_type": "code",
   "execution_count": 14,
   "metadata": {},
   "outputs": [
    {
     "data": {
      "text/plain": [
       "PosixPath('/home/wonseok/2022_LDP_EXPERIMENT')"
      ]
     },
     "execution_count": 14,
     "metadata": {},
     "output_type": "execute_result"
    }
   ],
   "source": [
    "Path.cwd().parents[0]"
   ]
  },
  {
   "cell_type": "code",
   "execution_count": null,
   "metadata": {},
   "outputs": [],
   "source": []
  }
 ],
 "metadata": {
  "interpreter": {
   "hash": "86a1c670984ca933dfe7fc0edc0d84a1fbf41341868946ec2992a713c2a71aa2"
  },
  "kernelspec": {
   "display_name": "Python 3.8.12 64-bit ('2022_LDP_EXPERIMENT')",
   "language": "python",
   "name": "python3"
  },
  "language_info": {
   "codemirror_mode": {
    "name": "ipython",
    "version": 3
   },
   "file_extension": ".py",
   "mimetype": "text/x-python",
   "name": "python",
   "nbconvert_exporter": "python",
   "pygments_lexer": "ipython3",
   "version": "3.8.12"
  },
  "orig_nbformat": 4
 },
 "nbformat": 4,
 "nbformat_minor": 2
}
