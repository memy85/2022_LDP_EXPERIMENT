{
 "cells": [
  {
   "cell_type": "markdown",
   "metadata": {},
   "source": [
    "## Privacy Measuring Ways\n",
    "\n",
    "In this Note, I will try to develop codes that could automatically detect privacy loss, or privacy risks for a given randomized algorithm. The algorithm will take a mechanism as an input and it will try to measure if it is possible."
   ]
  },
  {
   "cell_type": "markdown",
   "metadata": {},
   "source": []
  }
 ],
 "metadata": {
  "language_info": {
   "name": "python"
  },
  "orig_nbformat": 4
 },
 "nbformat": 4,
 "nbformat_minor": 2
}
